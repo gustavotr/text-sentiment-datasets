{
  "nbformat": 4,
  "nbformat_minor": 0,
  "metadata": {
    "colab": {
      "name": "Spacy TAS.ipynb",
      "version": "0.3.2",
      "provenance": [],
      "collapsed_sections": [],
      "toc_visible": true,
      "include_colab_link": true
    },
    "kernelspec": {
      "name": "python3",
      "display_name": "Python 3"
    }
  },
  "cells": [
    {
      "cell_type": "markdown",
      "metadata": {
        "id": "view-in-github",
        "colab_type": "text"
      },
      "source": [
        "<a href=\"https://colab.research.google.com/github/gustavotr/text-sentiment-datasets/blob/master/Spacy_TAS.ipynb\" target=\"_parent\"><img src=\"https://colab.research.google.com/assets/colab-badge.svg\" alt=\"Open In Colab\"/></a>"
      ]
    },
    {
      "cell_type": "markdown",
      "metadata": {
        "id": "-GdBIaZbu1fj",
        "colab_type": "text"
      },
      "source": [
        "## Faça upload do arquivo \".txt\" que será analisado\n",
        "O texto deve conter uma opinião/review de hotel ou restaurante"
      ]
    },
    {
      "cell_type": "code",
      "metadata": {
        "id": "ZfwpMvI1vIKL",
        "colab_type": "code",
        "outputId": "017c6f7d-3d05-4815-b6c2-2c804c152189",
        "colab": {
          "resources": {
            "http://localhost:8080/nbextensions/google.colab/files.js": {
              "data": "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",
              "ok": true,
              "headers": [
                [
                  "content-type",
                  "application/javascript"
                ]
              ],
              "status": 200,
              "status_text": "OK"
            }
          },
          "base_uri": "https://localhost:8080/",
          "height": 76
        }
      },
      "source": [
        "from google.colab import files\n",
        "\n",
        "uploaded = files.upload()\n",
        "\n",
        "#@markdown Arquivo de exemplo pode ser encontrado em https://github.com/gustavotr/text-sentiment-datasets/blob/master/opinioes.txt"
      ],
      "execution_count": 0,
      "outputs": [
        {
          "output_type": "display_data",
          "data": {
            "text/html": [
              "\n",
              "     <input type=\"file\" id=\"files-22355d79-eb8d-4ff9-b798-61ba5576ee68\" name=\"files[]\" multiple disabled />\n",
              "     <output id=\"result-22355d79-eb8d-4ff9-b798-61ba5576ee68\">\n",
              "      Upload widget is only available when the cell has been executed in the\n",
              "      current browser session. Please rerun this cell to enable.\n",
              "      </output>\n",
              "      <script src=\"/nbextensions/google.colab/files.js\"></script> "
            ],
            "text/plain": [
              "<IPython.core.display.HTML object>"
            ]
          },
          "metadata": {
            "tags": []
          }
        },
        {
          "output_type": "stream",
          "text": [
            "Saving opinioes.txt to opinioes (7).txt\n"
          ],
          "name": "stdout"
        }
      ]
    },
    {
      "cell_type": "markdown",
      "metadata": {
        "id": "f5U3spzh_Dd-",
        "colab_type": "text"
      },
      "source": [
        "## Treinamento para análise de sentimento"
      ]
    },
    {
      "cell_type": "code",
      "metadata": {
        "id": "dFn8nskx_Bxx",
        "colab_type": "code",
        "colab": {}
      },
      "source": [
        "import json\n",
        "import pandas as pd\n",
        "from sklearn.feature_extraction.text import CountVectorizer,TfidfVectorizer\n",
        "from sklearn.base import TransformerMixin\n",
        "from sklearn.pipeline import Pipeline  "
      ],
      "execution_count": 0,
      "outputs": []
    },
    {
      "cell_type": "code",
      "metadata": {
        "id": "LM-OZqmbm2Cu",
        "colab_type": "code",
        "outputId": "f85e63a9-0d7b-43b6-eab1-0bba457c36c1",
        "colab": {
          "base_uri": "https://localhost:8080/",
          "height": 206
        }
      },
      "source": [
        "#@markdown O dataset utilizado foi criado para esta tarefa retirando do site tripadvisor os reviews de hoteis e restaurantes de curitiba\n",
        "data = pd.read_csv(\"https://raw.githubusercontent.com/gustavotr/text-sentiment-datasets/master/tripadvisor_reviews_curitiba.csv\")\n",
        "data.columns = ['review', 'rating']\n",
        "\n",
        "#@markdown Os ratings do tripadvisor de 1 a 5 são reclassificados em Negativa (-1), Neutra (0) e Positiva (1)\n",
        "di = {\n",
        "    1: -1,\n",
        "    2: -1,\n",
        "    3: 0,\n",
        "    4: 0,\n",
        "    5: 1\n",
        "}\n",
        "data['rating'].replace(di, inplace=True)\n",
        "\n",
        "data.head()"
      ],
      "execution_count": 0,
      "outputs": [
        {
          "output_type": "execute_result",
          "data": {
            "text/html": [
              "<div>\n",
              "<style scoped>\n",
              "    .dataframe tbody tr th:only-of-type {\n",
              "        vertical-align: middle;\n",
              "    }\n",
              "\n",
              "    .dataframe tbody tr th {\n",
              "        vertical-align: top;\n",
              "    }\n",
              "\n",
              "    .dataframe thead th {\n",
              "        text-align: right;\n",
              "    }\n",
              "</style>\n",
              "<table border=\"1\" class=\"dataframe\">\n",
              "  <thead>\n",
              "    <tr style=\"text-align: right;\">\n",
              "      <th></th>\n",
              "      <th>review</th>\n",
              "      <th>rating</th>\n",
              "    </tr>\n",
              "  </thead>\n",
              "  <tbody>\n",
              "    <tr>\n",
              "      <th>0</th>\n",
              "      <td>Se você quer comer uma massa boa e caseira o B...</td>\n",
              "      <td>1</td>\n",
              "    </tr>\n",
              "    <tr>\n",
              "      <th>1</th>\n",
              "      <td>Uma otima escolha no shopping Barigui Curitiba...</td>\n",
              "      <td>1</td>\n",
              "    </tr>\n",
              "    <tr>\n",
              "      <th>2</th>\n",
              "      <td>Minha melhor escolha para comemorar aniversári...</td>\n",
              "      <td>1</td>\n",
              "    </tr>\n",
              "    <tr>\n",
              "      <th>3</th>\n",
              "      <td>No dia 15/03/19, estivemos no Barolo do Shoppi...</td>\n",
              "      <td>-1</td>\n",
              "    </tr>\n",
              "    <tr>\n",
              "      <th>4</th>\n",
              "      <td>Fui ao Barolo dia 18/4 , comemorar meu anivers...</td>\n",
              "      <td>-1</td>\n",
              "    </tr>\n",
              "  </tbody>\n",
              "</table>\n",
              "</div>"
            ],
            "text/plain": [
              "                                              review  rating\n",
              "0  Se você quer comer uma massa boa e caseira o B...       1\n",
              "1  Uma otima escolha no shopping Barigui Curitiba...       1\n",
              "2  Minha melhor escolha para comemorar aniversári...       1\n",
              "3  No dia 15/03/19, estivemos no Barolo do Shoppi...      -1\n",
              "4  Fui ao Barolo dia 18/4 , comemorar meu anivers...      -1"
            ]
          },
          "metadata": {
            "tags": []
          },
          "execution_count": 273
        }
      ]
    },
    {
      "cell_type": "markdown",
      "metadata": {
        "id": "XQ63n47bC1L6",
        "colab_type": "text"
      },
      "source": [
        "### Separa o texto entre dados de treinamento e dados para validação"
      ]
    },
    {
      "cell_type": "code",
      "metadata": {
        "id": "GlidEqhXJDOs",
        "colab_type": "code",
        "colab": {}
      },
      "source": [
        "from sklearn.model_selection import train_test_split\n",
        "train, test = train_test_split(data, test_size=0.33, random_state=42)"
      ],
      "execution_count": 0,
      "outputs": []
    },
    {
      "cell_type": "markdown",
      "metadata": {
        "id": "IgbmIS4uDFqa",
        "colab_type": "text"
      },
      "source": [
        "### Plota a quantidade de cada categoria que será usada no treinamento"
      ]
    },
    {
      "cell_type": "code",
      "metadata": {
        "id": "QHculbnsLhAo",
        "colab_type": "code",
        "outputId": "e1e18cec-d076-41cb-932d-4b78be0223c8",
        "colab": {
          "base_uri": "https://localhost:8080/",
          "height": 269
        }
      },
      "source": [
        "import matplotlib.pyplot as plt\n",
        "import seaborn as sns\n",
        "\n",
        "fig = plt.figure(figsize=(8,4))\n",
        "sns.barplot(x = train['rating'].unique(), y=train['rating'].value_counts())\n",
        "plt.show()"
      ],
      "execution_count": 0,
      "outputs": [
        {
          "output_type": "display_data",
          "data": {
            "image/png": "[encoded data removed]",
            "text/plain": [
              "<Figure size 576x288 with 1 Axes>"
            ]
          },
          "metadata": {
            "tags": []
          }
        }
      ]
    },
    {
      "cell_type": "code",
      "metadata": {
        "id": "CJyzr15xJlh0",
        "colab_type": "code",
        "outputId": "7ad75c4f-6c6a-4afd-8fed-509dfa8146bf",
        "colab": {
          "base_uri": "https://localhost:8080/",
          "height": 180
        }
      },
      "source": [
        "from sklearn.feature_extraction.text import CountVectorizer\n",
        "from sklearn.base import TransformerMixin\n",
        "from sklearn.pipeline import Pipeline\n",
        "#from sklearn.svm import LinearSVC\n",
        "from sklearn.linear_model import LogisticRegression\n",
        "from sklearn.metrics import accuracy_score\n",
        "!python -m spacy download pt_core_news_sm\n",
        "import string\n",
        "import re\n",
        "import spacy\n",
        "spacy.load('pt_core_news_sm')\n",
        "from spacy.lang.pt import Portuguese\n",
        "parser = Portuguese()"
      ],
      "execution_count": 0,
      "outputs": [
        {
          "output_type": "stream",
          "text": [
            "Requirement already satisfied: pt_core_news_sm==2.0.0 from https://github.com/explosion/spacy-models/releases/download/pt_core_news_sm-2.0.0/pt_core_news_sm-2.0.0.tar.gz#egg=pt_core_news_sm==2.0.0 in /usr/local/lib/python3.6/dist-packages (2.0.0)\n",
            "\n",
            "\u001b[93m    Linking successful\u001b[0m\n",
            "    /usr/local/lib/python3.6/dist-packages/pt_core_news_sm -->\n",
            "    /usr/local/lib/python3.6/dist-packages/spacy/data/pt_core_news_sm\n",
            "\n",
            "    You can now load the model via spacy.load('pt_core_news_sm')\n",
            "\n"
          ],
          "name": "stdout"
        }
      ]
    },
    {
      "cell_type": "markdown",
      "metadata": {
        "id": "nsWOCGRrCdTY",
        "colab_type": "text"
      },
      "source": [
        "### Cria as funções para tratar o texto"
      ]
    },
    {
      "cell_type": "code",
      "metadata": {
        "id": "JXOh9YZLOCUh",
        "colab_type": "code",
        "colab": {}
      },
      "source": [
        "STOPLIST = spacy.lang.pt.stop_words.STOP_WORDS\n",
        "SYMBOLS = \" \".join(string.punctuation).split(\" \") + [\"-\", \"...\", \"”\", \"”\"]\n",
        "\n",
        "class CleanTextTransformer(TransformerMixin):\n",
        "\n",
        "   def transform(self, X, **transform_params):\n",
        "        return [cleanText(text) for text in X]\n",
        "\n",
        "   def fit(self, X, y=None, **fit_params):\n",
        "        return self\n",
        "\n",
        "def get_params(self, deep=True):\n",
        "        return {}\n",
        "#@markdown Remove caracteres de quebra e retorno de linha e converte texto para letras minúsculas\n",
        "def cleanText(text):\n",
        "    text = text.strip().replace(\"\\n\", \" \").replace(\"\\r\", \" \")\n",
        "    text = text.lower()\n",
        "    return text\n",
        "\n",
        "#@markdown Remove stop words e símbolos do texto e separa as palavras como tokens\n",
        "def tokenizeText(sample):\n",
        "    tokens = parser(sample)\n",
        "    lemmas = []\n",
        "    for tok in tokens:\n",
        "        lemmas.append(tok.lemma_.lower().strip() if tok.lemma_ != \"-PRON-\" else tok.lower_)\n",
        "    tokens = lemmas\n",
        "    tokens = [tok for tok in tokens if tok not in STOPLIST]\n",
        "    tokens = [tok for tok in tokens if tok not in SYMBOLS]\n",
        "    return tokens\n",
        "  "
      ],
      "execution_count": 0,
      "outputs": []
    },
    {
      "cell_type": "markdown",
      "metadata": {
        "id": "cKuQJny1GS0d",
        "colab_type": "text"
      },
      "source": [
        "### Realiza o trainamento"
      ]
    },
    {
      "cell_type": "code",
      "metadata": {
        "id": "vlxjRniNOjPl",
        "colab_type": "code",
        "outputId": "6df3aeef-9e51-4757-81b4-ded2efffebba",
        "colab": {
          "base_uri": "https://localhost:8080/",
          "height": 537
        }
      },
      "source": [
        "#@markdown Mostra as melhores palavras para determinar a categoria de um texto\n",
        "def printNMostInformative(vectorizer, clf, N):\n",
        "    feature_names = vectorizer.get_feature_names()\n",
        "    coefs_with_fns = sorted(zip(clf.coef_[0], feature_names))\n",
        "    topClass1 = coefs_with_fns[:N]\n",
        "    topClass2 = coefs_with_fns[:-(N + 1):-1]\n",
        "    print(\"Class 1 best: \")\n",
        "    for feat in topClass1:\n",
        "        print(feat)\n",
        "    print(\"Class 2 best: \")\n",
        "    for feat in topClass2:\n",
        "        print(feat)\n",
        "\n",
        "vectorizer = CountVectorizer(tokenizer=tokenizeText, ngram_range=(1,2))\n",
        "#classificador usado\n",
        "clf = LogisticRegression()\n",
        "\n",
        "pipe = Pipeline([('cleanText', CleanTextTransformer()), ('vectorizer', vectorizer), ('clf', clf)])\n",
        "\n",
        "# data\n",
        "train1 = train['review'].tolist()\n",
        "labelsTrain1 = train['rating'].tolist()\n",
        "\n",
        "test1 = test['review'].tolist()\n",
        "labelsTest1 = test['rating'].tolist()\n",
        "# train\n",
        "pipe.fit(train1, labelsTrain1)\n",
        "\n",
        "# test\n",
        "preds = pipe.predict(test1)\n",
        "print(\"accuracy:\", accuracy_score(labelsTest1, preds))\n",
        "print(\"Top 10 features used to predict: \")\n",
        "\n",
        "printNMostInformative(vectorizer, clf, 10)\n",
        "pipe = Pipeline([('cleanText', CleanTextTransformer()), ('vectorizer', vectorizer)])\n",
        "transform = pipe.fit_transform(train1, labelsTrain1)\n",
        "\n",
        "vocab = vectorizer.get_feature_names()\n",
        "for i in range(len(train1)):\n",
        "    s = \"\"\n",
        "    indexIntoVocab = transform.indices[transform.indptr[i]:transform.indptr[i+1]]\n",
        "    numOccurences = transform.data[transform.indptr[i]:transform.indptr[i+1]]\n",
        "    for idx, num in zip(indexIntoVocab, numOccurences):\n",
        "        s += str((vocab[idx], num))"
      ],
      "execution_count": 0,
      "outputs": [
        {
          "output_type": "stream",
          "text": [
            "/usr/local/lib/python3.6/dist-packages/sklearn/linear_model/logistic.py:432: FutureWarning: Default solver will be changed to 'lbfgs' in 0.22. Specify a solver to silence this warning.\n",
            "  FutureWarning)\n",
            "/usr/local/lib/python3.6/dist-packages/sklearn/linear_model/logistic.py:469: FutureWarning: Default multi_class will be changed to 'auto' in 0.22. Specify the multi_class option to silence this warning.\n",
            "  \"this warning.\", FutureWarning)\n"
          ],
          "name": "stderr"
        },
        {
          "output_type": "stream",
          "text": [
            "accuracy: 0.751506456241033\n",
            "Top 10 features used to predict: \n",
            "Class 1 best: \n",
            "(-1.7153831761184826, 'excelente')\n",
            "(-1.3292803028532703, 'ótimo')\n",
            "(-1.288424703965177, 'delicioso')\n",
            "(-1.122370684445232, 'agradável')\n",
            "(-0.9870222393321083, 'saboroso')\n",
            "(-0.9771604776894136, 'maravilhoso')\n",
            "(-0.8170212824915254, 'confortável')\n",
            "(-0.7965518008651998, 'perfazer')\n",
            "(-0.6975598407919021, 'gostoso')\n",
            "(-0.6926058034911632, 'limpar')\n",
            "Class 2 best: \n",
            "(2.2216879093849506, 'mau')\n",
            "(1.4663170555299796, 'horrível')\n",
            "(1.3302985345686122, 'ruim')\n",
            "(1.0991063094927136, 'demorar')\n",
            "(1.0106768019415795, 'falto')\n",
            "(0.9808399055461474, 'parecer')\n",
            "(0.9629650581593401, 'atendimento demorar')\n",
            "(0.9441316145328567, 'fraco')\n",
            "(0.9087089506515954, 'decepcionar')\n",
            "(0.8786181041072034, 'absurdo')\n"
          ],
          "name": "stdout"
        }
      ]
    },
    {
      "cell_type": "markdown",
      "metadata": {
        "id": "utwEE3jdGon-",
        "colab_type": "text"
      },
      "source": [
        "### Mostra precisão alcançada com o treinamento"
      ]
    },
    {
      "cell_type": "code",
      "metadata": {
        "id": "AU56eT-hPJEn",
        "colab_type": "code",
        "outputId": "c2c3fd3d-b8eb-4a1b-f36e-19c853bcd769",
        "colab": {
          "base_uri": "https://localhost:8080/",
          "height": 196
        }
      },
      "source": [
        "from sklearn import metrics\n",
        "target_names = ratingToText(data['rating'].unique())\n",
        "print(metrics.classification_report(ratingToText(labelsTest1), ratingToText(preds), target_names))"
      ],
      "execution_count": 0,
      "outputs": [
        {
          "output_type": "stream",
          "text": [
            "              precision    recall  f1-score   support\n",
            "\n",
            "    Positiva       0.80      0.89      0.84      2198\n",
            "    Negativa       0.81      0.56      0.66       290\n",
            "      Neutra       0.60      0.51      0.55       997\n",
            "\n",
            "    accuracy                           0.75      3485\n",
            "   macro avg       0.74      0.65      0.69      3485\n",
            "weighted avg       0.74      0.75      0.74      3485\n",
            "\n"
          ],
          "name": "stdout"
        }
      ]
    },
    {
      "cell_type": "markdown",
      "metadata": {
        "id": "wwjjJJFPGvJK",
        "colab_type": "text"
      },
      "source": [
        "## Realiza a análise do texto enviado"
      ]
    },
    {
      "cell_type": "markdown",
      "metadata": {
        "id": "TNy36J9YvQTM",
        "colab_type": "text"
      },
      "source": [
        "### Extrai texto do arquivo enviado"
      ]
    },
    {
      "cell_type": "code",
      "metadata": {
        "id": "C7WLYpOPvSrZ",
        "colab_type": "code",
        "colab": {}
      },
      "source": [
        "text = \"\"\n",
        "for fn in uploaded.keys():  \n",
        "  text += uploaded[fn].decode(\"utf-8\")"
      ],
      "execution_count": 0,
      "outputs": []
    },
    {
      "cell_type": "markdown",
      "metadata": {
        "id": "TAVDr_uWvU5O",
        "colab_type": "text"
      },
      "source": [
        "### Conta o número de parágrafos"
      ]
    },
    {
      "cell_type": "code",
      "metadata": {
        "id": "ggOLGYqbvXNj",
        "colab_type": "code",
        "outputId": "eafd0997-4c41-41d0-b8dd-dab0988428d7",
        "colab": {
          "base_uri": "https://localhost:8080/",
          "height": 35
        }
      },
      "source": [
        "import re\n",
        "#paragraphs = text.split('\\n')\n",
        "paragraphs = re.split(r'\\r*\\n+\\r*\\n+', text)\n",
        "print(\"Parágrafos: \", len(paragraphs))"
      ],
      "execution_count": 0,
      "outputs": [
        {
          "output_type": "stream",
          "text": [
            "Parágrafos:  7\n"
          ],
          "name": "stdout"
        }
      ]
    },
    {
      "cell_type": "markdown",
      "metadata": {
        "id": "DCChS1s4vZq2",
        "colab_type": "text"
      },
      "source": [
        "### Conta o número de frases"
      ]
    },
    {
      "cell_type": "code",
      "metadata": {
        "id": "VKg6gfJpvdSp",
        "colab_type": "code",
        "outputId": "519ee018-052b-4e30-cd77-d70bb8a11c7f",
        "colab": {
          "base_uri": "https://localhost:8080/",
          "height": 71
        }
      },
      "source": [
        "import nltk\n",
        "nltk.download('punkt')\n",
        "\n",
        "sentences = nltk.sent_tokenize(text)\n",
        "print(\"Frases: \", len(sentences))"
      ],
      "execution_count": 0,
      "outputs": [
        {
          "output_type": "stream",
          "text": [
            "[nltk_data] Downloading package punkt to /root/nltk_data...\n",
            "[nltk_data]   Package punkt is already up-to-date!\n",
            "Frases:  15\n"
          ],
          "name": "stdout"
        }
      ]
    },
    {
      "cell_type": "markdown",
      "metadata": {
        "id": "-Rt0xqCZvj_T",
        "colab_type": "text"
      },
      "source": [
        "### Conta o número de palavras"
      ]
    },
    {
      "cell_type": "code",
      "metadata": {
        "id": "8l2WqevTvlvM",
        "colab_type": "code",
        "outputId": "5af4e75d-a64c-491e-ef4d-05b3f66e17e1",
        "colab": {
          "base_uri": "https://localhost:8080/",
          "height": 35
        }
      },
      "source": [
        "words = nltk.word_tokenize(text)\n",
        "#@markdown Remove símbolos para que não sejam considerados como palavras\n",
        "words = [tok for tok in words if tok not in SYMBOLS]\n",
        "print(\"Palavras: \",len(words))"
      ],
      "execution_count": 0,
      "outputs": [
        {
          "output_type": "stream",
          "text": [
            "Palavras:  334\n"
          ],
          "name": "stdout"
        }
      ]
    },
    {
      "cell_type": "markdown",
      "metadata": {
        "id": "2BW6sgdwIL-K",
        "colab_type": "text"
      },
      "source": [
        "### Faz a classificação dos sentimentos em cada frase"
      ]
    },
    {
      "cell_type": "code",
      "metadata": {
        "id": "w7wrfVG6TNrS",
        "colab_type": "code",
        "colab": {}
      },
      "source": [
        "#@markdown Renomeia os valores numéricos para melhor visualização\n",
        "ratingsOpts = {\n",
        "    -1: \"Negativa\",\n",
        "    0: \"Neutra\",\n",
        "    1: \"Positiva\"\n",
        "}\n",
        "\n",
        "def ratingToText(ratings):\n",
        "  new_r = []\n",
        "  for r in ratings:\n",
        "    new_r.append(ratingsOpts[r])\n",
        "  return new_r"
      ],
      "execution_count": 0,
      "outputs": []
    },
    {
      "cell_type": "code",
      "metadata": {
        "id": "OLDjb3qQZNcq",
        "colab_type": "code",
        "outputId": "c5d00594-2fdf-42fc-a980-e7a01e24de9f",
        "colab": {
          "base_uri": "https://localhost:8080/",
          "height": 206
        }
      },
      "source": [
        "pipe = Pipeline([('cleanText', CleanTextTransformer()), ('vectorizer', vectorizer), ('clf', clf)])\n",
        "#test2 = ['Quase morri de medo', \"Lugar abafado, sem luz. Tinha um cheiro estranho nos quartos\", \"Não recomendo, horrível\"]\n",
        "preds = pipe.predict(sentences)\n",
        "d = {'review' : sentences, 'sentiment': ratingToText(preds)}\n",
        "predDf = pd.DataFrame(data=d)\n",
        "predDf.head()\n"
      ],
      "execution_count": 0,
      "outputs": [
        {
          "output_type": "execute_result",
          "data": {
            "text/html": [
              "<div>\n",
              "<style scoped>\n",
              "    .dataframe tbody tr th:only-of-type {\n",
              "        vertical-align: middle;\n",
              "    }\n",
              "\n",
              "    .dataframe tbody tr th {\n",
              "        vertical-align: top;\n",
              "    }\n",
              "\n",
              "    .dataframe thead th {\n",
              "        text-align: right;\n",
              "    }\n",
              "</style>\n",
              "<table border=\"1\" class=\"dataframe\">\n",
              "  <thead>\n",
              "    <tr style=\"text-align: right;\">\n",
              "      <th></th>\n",
              "      <th>review</th>\n",
              "      <th>sentiment</th>\n",
              "    </tr>\n",
              "  </thead>\n",
              "  <tbody>\n",
              "    <tr>\n",
              "      <th>0</th>\n",
              "      <td>A casa antiga muito bem cuidada no centro de C...</td>\n",
              "      <td>Neutra</td>\n",
              "    </tr>\n",
              "    <tr>\n",
              "      <th>1</th>\n",
              "      <td>As acomodações eram bastante confortáveis, mes...</td>\n",
              "      <td>Neutra</td>\n",
              "    </tr>\n",
              "    <tr>\n",
              "      <th>2</th>\n",
              "      <td>Banheiros muito limpos\\r\\n\\r\\nA localização do...</td>\n",
              "      <td>Positiva</td>\n",
              "    </tr>\n",
              "    <tr>\n",
              "      <th>3</th>\n",
              "      <td>Limpeza e atendimento excelentes.</td>\n",
              "      <td>Positiva</td>\n",
              "    </tr>\n",
              "    <tr>\n",
              "      <th>4</th>\n",
              "      <td>Não tem como não gostar do hostel :)\\r\\n\\r\\nGo...</td>\n",
              "      <td>Positiva</td>\n",
              "    </tr>\n",
              "  </tbody>\n",
              "</table>\n",
              "</div>"
            ],
            "text/plain": [
              "                                              review sentiment\n",
              "0  A casa antiga muito bem cuidada no centro de C...    Neutra\n",
              "1  As acomodações eram bastante confortáveis, mes...    Neutra\n",
              "2  Banheiros muito limpos\\r\\n\\r\\nA localização do...  Positiva\n",
              "3                  Limpeza e atendimento excelentes.  Positiva\n",
              "4  Não tem como não gostar do hostel :)\\r\\n\\r\\nGo...  Positiva"
            ]
          },
          "metadata": {
            "tags": []
          },
          "execution_count": 285
        }
      ]
    },
    {
      "cell_type": "markdown",
      "metadata": {
        "id": "XWyemFriG7Cv",
        "colab_type": "text"
      },
      "source": [
        "### Plota o gráfico dos sentimentos no texto"
      ]
    },
    {
      "cell_type": "code",
      "metadata": {
        "id": "eqImNTri8mjz",
        "colab_type": "code",
        "outputId": "b6216e6c-731c-41be-c4e3-8e21ff24bb64",
        "colab": {
          "base_uri": "https://localhost:8080/",
          "height": 255
        }
      },
      "source": [
        "import matplotlib.pyplot as plt\n",
        "\n",
        "# Data to plot\n",
        "freq = predDf['sentiment'].value_counts()\n",
        "labels = predDf['sentiment'].unique()\n",
        "sizes = [freq[l] for l in labels]\n",
        "color = {'Positiva': 'lightgreen', 'Neutra': 'lightblue', 'Negativa': 'red'}\n",
        "colors = [color[l] for l in labels]\n",
        "\n",
        "# Plot\n",
        "plt.pie(sizes, labels=labels, colors=colors,\n",
        "autopct='%1.1f%%', shadow=True, startangle=140)\n",
        "\n",
        "plt.axis('equal')\n",
        "plt.show()"
      ],
      "execution_count": 0,
      "outputs": [
        {
          "output_type": "display_data",
          "data": {
            "image/png": "[encoded data removed]",
            "text/plain": [
              "<Figure size 432x288 with 1 Axes>"
            ]
          },
          "metadata": {
            "tags": []
          }
        }
      ]
    }
  ]
}